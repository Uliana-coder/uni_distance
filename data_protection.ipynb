{
 "cells": [
  {
   "cell_type": "code",
   "execution_count": 104,
   "id": "31324eb5",
   "metadata": {},
   "outputs": [],
   "source": [
    "import pandas as pd\n",
    "import ast\n",
    "from tabulate import tabulate\n",
    "import csv\n",
    "import matplotlib.pyplot as plt\n",
    "import numpy as np\n",
    "from IPython.display import HTML\n",
    "import statistics\n",
    "from IPython.display import display, HTML\n",
    "import seaborn as sns\n",
    "import streamlit as st\n",
    "import re\n",
    "from prettytable import PrettyTable\n",
    "from termcolor import colored\n",
    "\n",
    "from streamlit_jupyter import StreamlitPatcher, tqdm\n",
    "\n",
    "StreamlitPatcher().jupyter()  # register streamlit with jupyter-compatible wrappers"
   ]
  },
  {
   "cell_type": "code",
   "execution_count": 105,
   "id": "f4d8f410",
   "metadata": {},
   "outputs": [],
   "source": [
    "file_path = \"passed_info.csv\""
   ]
  },
  {
   "cell_type": "code",
   "execution_count": 106,
   "id": "9310db84",
   "metadata": {},
   "outputs": [],
   "source": [
    "data = pd.read_csv(file_path)\n",
    "\n",
    "# Create a DataFrame from the dataset\n",
    "df = pd.DataFrame(data)\n",
    "# Remove duplicates\n",
    "df = df.drop_duplicates(subset = [\"actor\", \"object\"])"
   ]
  },
  {
   "cell_type": "code",
   "execution_count": 107,
   "id": "e97d3254",
   "metadata": {},
   "outputs": [
    {
     "data": {
      "text/plain": [
       "DeltaGenerator()"
      ]
     },
     "execution_count": 107,
     "metadata": {},
     "output_type": "execute_result"
    }
   ],
   "source": [
    "# Convert strings to dictionaries in the \"object\" column\n",
    "df[\"actor\"] = df[\"actor\"].apply(ast.literal_eval)\n",
    "df[\"verb\"] = df[\"object\"].apply(ast.literal_eval)\n",
    "df[\"object\"] = df[\"object\"].apply(ast.literal_eval)\n",
    "\n",
    "# Function to replace \"parent_chapter_pid\" field with a string value\n",
    "def replace_parent_chapter_pid(row):\n",
    "    parent_chapter_pid = row[\"object\"][\"definition\"][\"extensions\"][\"http://lrs&46;learninglocker&46;net/define/extensions/kairos\"][\"parent_chapter_pid\"]\n",
    "    if parent_chapter_pid == 333:\n",
    "        return \"Partie I\"  \n",
    "    elif parent_chapter_pid == 334:\n",
    "        return \"Partie II\" \n",
    "    elif parent_chapter_pid == 336:\n",
    "        return \"Partie III\" \n",
    "    elif parent_chapter_pid == 337:\n",
    "        return \"Partie IV\"\n",
    "    else : \n",
    "        return \"Partie V\"\n",
    "\n",
    "# Replace \"parent_chapter_pid\" field with a string value based on its original value\n",
    "df[\"parent_chapter_pid\"] = df.apply(replace_parent_chapter_pid, axis=1)\n",
    "\n",
    "extracted_data = pd.DataFrame(df.apply(lambda x: [\n",
    "    x[\"actor\"][\"name\"],\n",
    "    round(x[\"object\"][\"definition\"][\"extensions\"][\"http://lrs&46;learninglocker&46;net/define/extensions/kairos\"][\"percentage_of_success\"]),\n",
    "    x[\"parent_chapter_pid\"]\n",
    "], axis=1).tolist(), columns=[\"actor\", \"object\", \"parent_chapter_pid\"])\n",
    "\n",
    "# Create a list of headers for the grid\n",
    "headers = [\"Name of Student\", \"Percentage of Success\", \"Chapter\"]\n",
    "\n",
    "# # Print the beautiful grid\n",
    "# print(tabulate(extracted_data, headers = headers, colalign = ('left', 'center', 'left'), tablefmt=\"fancy_grid\"))\n",
    "# Display the table using Streamlit\n",
    "# st.write(tabulate(extracted_data, headers=headers, colalign=('left', 'center', 'left'), tablefmt=\"fancy_grid\"))\n",
    "st.table(extracted_data)\n"
   ]
  },
  {
   "cell_type": "code",
   "execution_count": 108,
   "id": "fe626c4b",
   "metadata": {},
   "outputs": [
    {
     "name": "stderr",
     "output_type": "stream",
     "text": [
      "C:\\Users\\2370\\AppData\\Local\\Temp\\ipykernel_22860\\863410671.py:31: MatplotlibDeprecationWarning: The get_cmap function was deprecated in Matplotlib 3.7 and will be removed two minor releases later. Use ``matplotlib.colormaps[name]`` or ``matplotlib.colormaps.get_cmap(obj)`` instead.\n",
      "  colors = plt.cm.get_cmap('tab10', len(unique_pids))\n"
     ]
    },
    {
     "data": {
      "text/plain": [
       "DeltaGenerator()"
      ]
     },
     "execution_count": 108,
     "metadata": {},
     "output_type": "execute_result"
    }
   ],
   "source": [
    "# Create a DataFrame from the dataset\n",
    "df = pd.DataFrame(data)\n",
    "\n",
    "# Remove duplicates based on \"actor\" and \"object\" columns\n",
    "df = df.drop_duplicates(subset=[\"actor\", \"object\"])\n",
    "\n",
    "# Extract parent_chapter_pid and percentage_of_success values\n",
    "parent_chapter_pids = []\n",
    "success_scores = []\n",
    "for _, row in df.iterrows():\n",
    "    object_data = eval(row[\"object\"])\n",
    "    extensions = object_data[\"definition\"][\"extensions\"][\"http://lrs&46;learninglocker&46;net/define/extensions/kairos\"]\n",
    "    parent_chapter_pid = extensions[\"parent_chapter_pid\"]\n",
    "    percentage_of_success = extensions[\"percentage_of_success\"]\n",
    "    if parent_chapter_pid is not None and percentage_of_success is not None:\n",
    "        parent_chapter_pids.append(str(parent_chapter_pid))\n",
    "        success_scores.append(percentage_of_success)\n",
    "        \n",
    "# Calculate average success score per parent_chapter_pid\n",
    "unique_pids = list(set(parent_chapter_pids))\n",
    "average_scores = []\n",
    "for pid in unique_pids:\n",
    "    scores = [score for score, p in zip(success_scores, parent_chapter_pids) if p == pid]\n",
    "    average_score = np.mean(scores)\n",
    "    average_scores.append(average_score)\n",
    "\n",
    "# Sort unique_pids and average_scores based on unique_pids values\n",
    "unique_pids, average_scores = zip(*sorted(zip(unique_pids, average_scores)))\n",
    "\n",
    "# Define a color palette for the bars\n",
    "colors = plt.cm.get_cmap('tab10', len(unique_pids))\n",
    "\n",
    "# # Plot the graph\n",
    "# plt.figure(figsize=(10, 8))\n",
    "# bars = plt.bar(unique_pids, average_scores, color=colors(range(len(unique_pids))))\n",
    "# plt.xlabel(\"Parent Chapter PID\")\n",
    "# plt.ylabel(\"Average Success Score\")\n",
    "# plt.title(\"Average Success Score per Parent Chapter PID\")\n",
    "\n",
    "# # Add a legend for the colors\n",
    "# plt.legend(bars, unique_pids)\n",
    "\n",
    "# # Add percentage labels on each bar\n",
    "# for i, bar in enumerate(bars):\n",
    "#     height = bar.get_height()\n",
    "#     percentage = f\"{average_scores[i]:.2f}%\"\n",
    "#     plt.text(bar.get_x() + bar.get_width() / 2, height, percentage, ha='center', va='bottom')\n",
    "\n",
    "\n",
    "# plt.show()\n",
    "\n",
    "# Plot the graph\n",
    "fig, ax = plt.subplots(figsize=(10, 8))\n",
    "bars = ax.bar(unique_pids, average_scores, color=colors(range(len(unique_pids))))\n",
    "ax.set_xlabel(\"Parent Chapter PID\")\n",
    "ax.set_ylabel(\"Average Success Score\")\n",
    "ax.set_title(\"Average Success Score per Parent Chapter PID\")\n",
    "\n",
    "# Add a legend for the colors\n",
    "ax.legend(bars, unique_pids)\n",
    "\n",
    "# Add percentage labels on each bar\n",
    "for i, bar in enumerate(bars):\n",
    "    height = bar.get_height()\n",
    "    percentage = f\"{average_scores[i]:.2f}%\"\n",
    "    ax.text(bar.get_x() + bar.get_width() / 2, height, percentage, ha='center', va='bottom')\n",
    "\n",
    "# Display the plot using Streamlit\n",
    "st.pyplot(fig)"
   ]
  },
  {
   "cell_type": "code",
   "execution_count": 112,
   "id": "7ac4a3d4",
   "metadata": {},
   "outputs": [],
   "source": [
    "# Calculate average success score per parent_chapter_pid\n",
    "unique_pids = list(set(parent_chapter_pids))\n",
    "average_scores = []\n",
    "for pid in unique_pids:\n",
    "    scores = [score for score, p in zip(success_scores, parent_chapter_pids) if p == pid]\n",
    "    average_score = np.mean(scores)\n",
    "    average_scores.append(average_score)\n",
    "    # Sidebar options\n",
    "selected_graph = st.sidebar.selectbox(\"Select Graph\", [\"Bar Chart\", \"Histogram\"])\n",
    "if selected_graph == \"Bar Chart\":\n",
    "# Plot the graph\n",
    "    plt.figure(figsize=(10, 8))\n",
    "    plt.bar(unique_pids, average_scores)\n",
    "    plt.xlabel(\"Parent Chapter PID\")\n",
    "    plt.ylabel(\"Average Success Score\")\n",
    "    plt.title(\"Average Success Score per Parent Chapter PID\")\n",
    "#     plt.show()\n",
    "    st.pyplot(plt)\n",
    "elif selected_graph == \"Histogram\":\n",
    "    # Calculate passing percentage per parent_chapter_pid\n",
    "    unique_pids = list(set(parent_chapter_pids))\n",
    "    passing_percentages = []\n",
    "    for pid in unique_pids:\n",
    "        scores = [score for score, p in zip(success_scores, parent_chapter_pids) if p == pid]\n",
    "        passing_count = sum(score >= 70 for score in scores)\n",
    "        passing_percentage = (passing_count / len(scores)) * 100\n",
    "        passing_percentages.append(passing_percentage)\n",
    "#     print(unique_pids)\n",
    "    \n",
    "#     print(passing_percentages)\n",
    "    \n",
    "\n",
    "    # Sort unique_pids and average_scores based on unique_pids values\n",
    "    unique_pids, passing_percentages = zip(*sorted(zip(unique_pids, passing_percentages)))\n",
    "\n",
    "    print(unique_pids)\n",
    "    \n",
    "    print(passing_percentages)\n",
    "\n",
    "    # Define a color palette for the bars\n",
    "    colors = plt.cm.get_cmap('tab10', len(unique_pids))\n",
    "\n",
    "# # Plot the graph\n",
    "# plt.figure(figsize=(10, 8))\n",
    "# bars = plt.bar(unique_pids, passing_percentages, color=colors(range(len(unique_pids))))\n",
    "# plt.xlabel(\"Parent Chapter PID\")\n",
    "# plt.ylabel(\"Percentage of passing(>70)\")\n",
    "# plt.title(\"Passing percentage per Parent Chapter PID\")\n",
    "\n",
    "    # Plot the graph\n",
    "    fig, ax = plt.subplots(figsize=(10, 8))\n",
    "    bars = ax.bar(unique_pids, passing_percentages, color=colors(range(len(unique_pids))))\n",
    "    ax.set_xlabel(\"Parent Chapter PID\")\n",
    "    ax.set_ylabel(\"Percentage of passing(>70)\")\n",
    "    ax.set_title(\"Passing percentage per Parent Chapter PID\")\n",
    "\n",
    "# # Add a legend for the colors\n",
    "# plt.legend(bars, unique_pids)\n",
    "           \n",
    "# # Add percentage labels to the bars\n",
    "# for i in range(len(unique_pids)):\n",
    "#     percentage = f\"{passing_percentages[i]:.2f}%\"\n",
    "#     plt.text(i, passing_percentages[i], percentage, ha='center', va='bottom')\n",
    "\n",
    "\n",
    "# plt.show()\n",
    "# Add a legend for the colors\n",
    "    ax.legend(bars, unique_pids)\n",
    "\n",
    "# Add percentage labels on each bar\n",
    "    for i, bar in enumerate(bars):\n",
    "        height = bar.get_height()\n",
    "        percentage =  f\"{passing_percentages[i]:.2f}%\"\n",
    "        ax.text(i, passing_percentages[i], percentage, ha='center', va='bottom')\n",
    "\n",
    "    # Display the plot using Streamlit\n",
    "    st.pyplot(fig)"
   ]
  },
  {
   "cell_type": "code",
   "execution_count": 110,
   "id": "8a949fa1",
   "metadata": {},
   "outputs": [
    {
     "ename": "SyntaxError",
     "evalue": "invalid syntax (2014221628.py, line 1)",
     "output_type": "error",
     "traceback": [
      "\u001b[1;36m  Cell \u001b[1;32mIn[110], line 1\u001b[1;36m\u001b[0m\n\u001b[1;33m    elif selected_graph == \"Histogram\":\u001b[0m\n\u001b[1;37m    ^\u001b[0m\n\u001b[1;31mSyntaxError\u001b[0m\u001b[1;31m:\u001b[0m invalid syntax\n"
     ]
    }
   ],
   "source": [
    "# elif selected_graph == \"Histogram\":\n",
    "#     # Calculate passing percentage per parent_chapter_pid\n",
    "#     unique_pids = list(set(parent_chapter_pids))\n",
    "#     passing_percentages = []\n",
    "#     for pid in unique_pids:\n",
    "#         scores = [score for score, p in zip(success_scores, parent_chapter_pids) if p == pid]\n",
    "#         passing_count = sum(score >= 70 for score in scores)\n",
    "#         passing_percentage = (passing_count / len(scores)) * 100\n",
    "#         passing_percentages.append(passing_percentage)\n",
    "# #     print(unique_pids)\n",
    "    \n",
    "# #     print(passing_percentages)\n",
    "    \n",
    "\n",
    "#     # Sort unique_pids and average_scores based on unique_pids values\n",
    "#     unique_pids, passing_percentages = zip(*sorted(zip(unique_pids, passing_percentages)))\n",
    "\n",
    "#     print(unique_pids)\n",
    "    \n",
    "#     print(passing_percentages)\n",
    "\n",
    "#     # Define a color palette for the bars\n",
    "#     colors = plt.cm.get_cmap('tab10', len(unique_pids))\n",
    "\n",
    "# # # Plot the graph\n",
    "# # plt.figure(figsize=(10, 8))\n",
    "# # bars = plt.bar(unique_pids, passing_percentages, color=colors(range(len(unique_pids))))\n",
    "# # plt.xlabel(\"Parent Chapter PID\")\n",
    "# # plt.ylabel(\"Percentage of passing(>70)\")\n",
    "# # plt.title(\"Passing percentage per Parent Chapter PID\")\n",
    "\n",
    "#     # Plot the graph\n",
    "#     fig, ax = plt.subplots(figsize=(10, 8))\n",
    "#     bars = ax.bar(unique_pids, passing_percentages, color=colors(range(len(unique_pids))))\n",
    "#     ax.set_xlabel(\"Parent Chapter PID\")\n",
    "#     ax.set_ylabel(\"Percentage of passing(>70)\")\n",
    "#     ax.set_title(\"Passing percentage per Parent Chapter PID\")\n",
    "\n",
    "# # # Add a legend for the colors\n",
    "# # plt.legend(bars, unique_pids)\n",
    "           \n",
    "# # # Add percentage labels to the bars\n",
    "# # for i in range(len(unique_pids)):\n",
    "# #     percentage = f\"{passing_percentages[i]:.2f}%\"\n",
    "# #     plt.text(i, passing_percentages[i], percentage, ha='center', va='bottom')\n",
    "\n",
    "\n",
    "# # plt.show()\n",
    "# # Add a legend for the colors\n",
    "#     ax.legend(bars, unique_pids)\n",
    "\n",
    "# # Add percentage labels on each bar\n",
    "#     for i, bar in enumerate(bars):\n",
    "#         height = bar.get_height()\n",
    "#         percentage =  f\"{passing_percentages[i]:.2f}%\"\n",
    "#         ax.text(i, passing_percentages[i], percentage, ha='center', va='bottom')\n",
    "\n",
    "#     # Display the plot using Streamlit\n",
    "#     st.pyplot(fig)"
   ]
  },
  {
   "cell_type": "code",
   "execution_count": 101,
   "id": "d8d9dbcb",
   "metadata": {
    "scrolled": false
   },
   "outputs": [
    {
     "data": {
      "image/png": "[encoded data removed]",
      "text/plain": [
       "<Figure size 1200x800 with 1 Axes>"
      ]
     },
     "metadata": {},
     "output_type": "display_data"
    },
    {
     "data": {
      "text/plain": [
       "DeltaGenerator()"
      ]
     },
     "execution_count": 101,
     "metadata": {},
     "output_type": "execute_result"
    }
   ],
   "source": [
    "# Calculate passing and failing percentages per parent_chapter_pid\n",
    "unique_pids = list(set(parent_chapter_pids))\n",
    "\n",
    "passing_percentages = []\n",
    "failing_percentages = []\n",
    "for pid in unique_pids:\n",
    "    scores = [score for score, p in zip(success_scores, parent_chapter_pids) if p == pid]\n",
    "    passing_count = sum(score >= 70 for score in scores)\n",
    "    failing_count = len(scores) - passing_count\n",
    "    passing_percentage = (passing_count / len(scores)) * 100\n",
    "    failing_percentage = (failing_count / len(scores)) * 100\n",
    "    passing_percentages.append(passing_percentage)\n",
    "    failing_percentages.append(failing_percentage)\n",
    "    \n",
    "# Sort unique_pids and average_scores based on unique_pids values\n",
    "unique_pids, average_scores = zip(*sorted(zip(unique_pids, passing_percentages)))\n",
    "\n",
    "# Plot the diagram\n",
    "plt.figure(figsize=(12, 8))\n",
    "plt.bar(unique_pids, passing_percentages, label='Passed', color='green')\n",
    "plt.bar(unique_pids, failing_percentages, bottom=passing_percentages, label='Failed', color='red')\n",
    "plt.xlabel(\"Parent Chapter PID\")\n",
    "plt.ylabel(\"Percentage\")\n",
    "plt.title(\"Pass/Fail Percentage per Parent Chapter PID\")\n",
    "plt.legend()\n",
    "\n",
    "for i in range(len(unique_pids)):\n",
    "    passing_percentage = passing_percentages[i]\n",
    "    failing_percentage = failing_percentages[i]\n",
    "    plt.text(unique_pids[i], passing_percentage / 2, f\"{passing_percentage:.2f}%\", ha='center', va='center')\n",
    "    plt.text(unique_pids[i], passing_percentage + failing_percentage / 2, f\"{failing_percentage:.2f}%\", ha='center', va='center')\n",
    "\n",
    "plt.show()\n",
    "st.pyplot(plt)\n"
   ]
  },
  {
   "cell_type": "code",
   "execution_count": 351,
   "id": "4db3566e",
   "metadata": {},
   "outputs": [
    {
     "data": {
      "text/html": [
       "<table border=\"1\" class=\"dataframe\">\n",
       "  <thead>\n",
       "    <tr style=\"text-align: right;\">\n",
       "      <th></th>\n",
       "      <th>Name</th>\n",
       "      <th>Parent Chapter PID</th>\n",
       "      <th>Percentage of Success</th>\n",
       "    </tr>\n",
       "  </thead>\n",
       "  <tbody>\n",
       "    <tr>\n",
       "      <th>0</th>\n",
       "      <td>Damien Carron</td>\n",
       "      <td>337</td>\n",
       "      <td>50.000000</td>\n",
       "    </tr>\n",
       "    <tr>\n",
       "      <th>1</th>\n",
       "      <td>Damien Carron</td>\n",
       "      <td>336</td>\n",
       "      <td>50.000000</td>\n",
       "    </tr>\n",
       "    <tr>\n",
       "      <th>2</th>\n",
       "      <td>Damien Carron</td>\n",
       "      <td>334</td>\n",
       "      <td>83.333333</td>\n",
       "    </tr>\n",
       "    <tr>\n",
       "      <th>3</th>\n",
       "      <td>Yvonne Mery</td>\n",
       "      <td>338</td>\n",
       "      <td>80.000000</td>\n",
       "    </tr>\n",
       "    <tr>\n",
       "      <th>4</th>\n",
       "      <td>Yvonne Mery</td>\n",
       "      <td>337</td>\n",
       "      <td>100.000000</td>\n",
       "    </tr>\n",
       "    <tr>\n",
       "      <th>5</th>\n",
       "      <td>Yvonne Mery</td>\n",
       "      <td>336</td>\n",
       "      <td>83.333333</td>\n",
       "    </tr>\n",
       "    <tr>\n",
       "      <th>6</th>\n",
       "      <td>Yvonne Mery</td>\n",
       "      <td>334</td>\n",
       "      <td>83.333333</td>\n",
       "    </tr>\n",
       "    <tr>\n",
       "      <th>7</th>\n",
       "      <td>Yvonne Mery</td>\n",
       "      <td>334</td>\n",
       "      <td>66.666667</td>\n",
       "    </tr>\n",
       "    <tr>\n",
       "      <th>8</th>\n",
       "      <td>Yvonne Mery</td>\n",
       "      <td>333</td>\n",
       "      <td>100.000000</td>\n",
       "    </tr>\n",
       "    <tr>\n",
       "      <th>9</th>\n",
       "      <td>Yvonne Mery</td>\n",
       "      <td>333</td>\n",
       "      <td>75.000000</td>\n",
       "    </tr>\n",
       "    <tr>\n",
       "      <th>10</th>\n",
       "      <td>Yvonne Mery</td>\n",
       "      <td>333</td>\n",
       "      <td>50.000000</td>\n",
       "    </tr>\n",
       "    <tr>\n",
       "      <th>11</th>\n",
       "      <td>Damien Carron</td>\n",
       "      <td>333</td>\n",
       "      <td>75.000000</td>\n",
       "    </tr>\n",
       "    <tr>\n",
       "      <th>12</th>\n",
       "      <td>Nicolas Rothen</td>\n",
       "      <td>333</td>\n",
       "      <td>50.000000</td>\n",
       "    </tr>\n",
       "    <tr>\n",
       "      <th>13</th>\n",
       "      <td>Stephane Pannatier</td>\n",
       "      <td>334</td>\n",
       "      <td>100.000000</td>\n",
       "    </tr>\n",
       "    <tr>\n",
       "      <th>14</th>\n",
       "      <td>Stephane Pannatier</td>\n",
       "      <td>333</td>\n",
       "      <td>75.000000</td>\n",
       "    </tr>\n",
       "    <tr>\n",
       "      <th>15</th>\n",
       "      <td>Stephane Pannatier</td>\n",
       "      <td>338</td>\n",
       "      <td>90.000000</td>\n",
       "    </tr>\n",
       "    <tr>\n",
       "      <th>16</th>\n",
       "      <td>Stephane Pannatier</td>\n",
       "      <td>337</td>\n",
       "      <td>100.000000</td>\n",
       "    </tr>\n",
       "    <tr>\n",
       "      <th>17</th>\n",
       "      <td>Stephane Pannatier</td>\n",
       "      <td>336</td>\n",
       "      <td>100.000000</td>\n",
       "    </tr>\n",
       "    <tr>\n",
       "      <th>18</th>\n",
       "      <td>Stephane Pannatier</td>\n",
       "      <td>334</td>\n",
       "      <td>83.333333</td>\n",
       "    </tr>\n",
       "    <tr>\n",
       "      <th>19</th>\n",
       "      <td>Stephane Pannatier</td>\n",
       "      <td>333</td>\n",
       "      <td>100.000000</td>\n",
       "    </tr>\n",
       "    <tr>\n",
       "      <th>20</th>\n",
       "      <td>Stephane Pannatier</td>\n",
       "      <td>333</td>\n",
       "      <td>50.000000</td>\n",
       "    </tr>\n",
       "    <tr>\n",
       "      <th>21</th>\n",
       "      <td>Atenas Anderson</td>\n",
       "      <td>337</td>\n",
       "      <td>100.000000</td>\n",
       "    </tr>\n",
       "    <tr>\n",
       "      <th>22</th>\n",
       "      <td>Atenas Anderson</td>\n",
       "      <td>336</td>\n",
       "      <td>100.000000</td>\n",
       "    </tr>\n",
       "    <tr>\n",
       "      <th>23</th>\n",
       "      <td>Atenas Anderson</td>\n",
       "      <td>334</td>\n",
       "      <td>100.000000</td>\n",
       "    </tr>\n",
       "    <tr>\n",
       "      <th>24</th>\n",
       "      <td>Atenas Anderson</td>\n",
       "      <td>333</td>\n",
       "      <td>75.000000</td>\n",
       "    </tr>\n",
       "    <tr>\n",
       "      <th>25</th>\n",
       "      <td>Ambroise Baillifard</td>\n",
       "      <td>334</td>\n",
       "      <td>83.333333</td>\n",
       "    </tr>\n",
       "    <tr>\n",
       "      <th>26</th>\n",
       "      <td>Ambroise Baillifard</td>\n",
       "      <td>333</td>\n",
       "      <td>75.000000</td>\n",
       "    </tr>\n",
       "    <tr>\n",
       "      <th>27</th>\n",
       "      <td>Unknown</td>\n",
       "      <td>333</td>\n",
       "      <td>75.000000</td>\n",
       "    </tr>\n",
       "    <tr>\n",
       "      <th>28</th>\n",
       "      <td>Unknown</td>\n",
       "      <td>333</td>\n",
       "      <td>100.000000</td>\n",
       "    </tr>\n",
       "    <tr>\n",
       "      <th>29</th>\n",
       "      <td>Unknown</td>\n",
       "      <td>333</td>\n",
       "      <td>75.000000</td>\n",
       "    </tr>\n",
       "    <tr>\n",
       "      <th>30</th>\n",
       "      <td>Unknown</td>\n",
       "      <td>333</td>\n",
       "      <td>100.000000</td>\n",
       "    </tr>\n",
       "    <tr>\n",
       "      <th>31</th>\n",
       "      <td>Unknown</td>\n",
       "      <td>333</td>\n",
       "      <td>100.000000</td>\n",
       "    </tr>\n",
       "    <tr>\n",
       "      <th>32</th>\n",
       "      <td>Uliana Shylo</td>\n",
       "      <td>333</td>\n",
       "      <td>75.000000</td>\n",
       "    </tr>\n",
       "    <tr>\n",
       "      <th>33</th>\n",
       "      <td>Unknown</td>\n",
       "      <td>333</td>\n",
       "      <td>50.000000</td>\n",
       "    </tr>\n",
       "    <tr>\n",
       "      <th>34</th>\n",
       "      <td>Unknown</td>\n",
       "      <td>333</td>\n",
       "      <td>50.000000</td>\n",
       "    </tr>\n",
       "    <tr>\n",
       "      <th>35</th>\n",
       "      <td>Unknown</td>\n",
       "      <td>333</td>\n",
       "      <td>50.000000</td>\n",
       "    </tr>\n",
       "    <tr>\n",
       "      <th>36</th>\n",
       "      <td>Unknown</td>\n",
       "      <td>333</td>\n",
       "      <td>75.000000</td>\n",
       "    </tr>\n",
       "    <tr>\n",
       "      <th>37</th>\n",
       "      <td>Frederic Gaillard</td>\n",
       "      <td>333</td>\n",
       "      <td>100.000000</td>\n",
       "    </tr>\n",
       "    <tr>\n",
       "      <th>38</th>\n",
       "      <td>Unknown</td>\n",
       "      <td>333</td>\n",
       "      <td>75.000000</td>\n",
       "    </tr>\n",
       "    <tr>\n",
       "      <th>39</th>\n",
       "      <td>Unknown</td>\n",
       "      <td>333</td>\n",
       "      <td>100.000000</td>\n",
       "    </tr>\n",
       "    <tr>\n",
       "      <th>40</th>\n",
       "      <td>Unknown</td>\n",
       "      <td>333</td>\n",
       "      <td>75.000000</td>\n",
       "    </tr>\n",
       "    <tr>\n",
       "      <th>41</th>\n",
       "      <td>Unknown</td>\n",
       "      <td>333</td>\n",
       "      <td>75.000000</td>\n",
       "    </tr>\n",
       "    <tr>\n",
       "      <th>42</th>\n",
       "      <td>Unknown</td>\n",
       "      <td>333</td>\n",
       "      <td>75.000000</td>\n",
       "    </tr>\n",
       "    <tr>\n",
       "      <th>43</th>\n",
       "      <td>Unknown</td>\n",
       "      <td>333</td>\n",
       "      <td>75.000000</td>\n",
       "    </tr>\n",
       "    <tr>\n",
       "      <th>44</th>\n",
       "      <td>Vincent Groff</td>\n",
       "      <td>334</td>\n",
       "      <td>100.000000</td>\n",
       "    </tr>\n",
       "    <tr>\n",
       "      <th>45</th>\n",
       "      <td>Vincent Groff</td>\n",
       "      <td>338</td>\n",
       "      <td>90.000000</td>\n",
       "    </tr>\n",
       "    <tr>\n",
       "      <th>46</th>\n",
       "      <td>Vincent Groff</td>\n",
       "      <td>338</td>\n",
       "      <td>50.000000</td>\n",
       "    </tr>\n",
       "    <tr>\n",
       "      <th>47</th>\n",
       "      <td>Vincent Groff</td>\n",
       "      <td>337</td>\n",
       "      <td>100.000000</td>\n",
       "    </tr>\n",
       "    <tr>\n",
       "      <th>48</th>\n",
       "      <td>Vincent Groff</td>\n",
       "      <td>336</td>\n",
       "      <td>100.000000</td>\n",
       "    </tr>\n",
       "    <tr>\n",
       "      <th>49</th>\n",
       "      <td>Vincent Groff</td>\n",
       "      <td>334</td>\n",
       "      <td>66.666667</td>\n",
       "    </tr>\n",
       "    <tr>\n",
       "      <th>50</th>\n",
       "      <td>Vincent Groff</td>\n",
       "      <td>333</td>\n",
       "      <td>100.000000</td>\n",
       "    </tr>\n",
       "    <tr>\n",
       "      <th>51</th>\n",
       "      <td>Michel Jullien</td>\n",
       "      <td>334</td>\n",
       "      <td>83.333333</td>\n",
       "    </tr>\n",
       "    <tr>\n",
       "      <th>52</th>\n",
       "      <td>Unknown</td>\n",
       "      <td>338</td>\n",
       "      <td>80.000000</td>\n",
       "    </tr>\n",
       "    <tr>\n",
       "      <th>53</th>\n",
       "      <td>Unknown</td>\n",
       "      <td>338</td>\n",
       "      <td>70.000000</td>\n",
       "    </tr>\n",
       "    <tr>\n",
       "      <th>54</th>\n",
       "      <td>Unknown</td>\n",
       "      <td>337</td>\n",
       "      <td>100.000000</td>\n",
       "    </tr>\n",
       "    <tr>\n",
       "      <th>55</th>\n",
       "      <td>Unknown</td>\n",
       "      <td>336</td>\n",
       "      <td>100.000000</td>\n",
       "    </tr>\n",
       "    <tr>\n",
       "      <th>56</th>\n",
       "      <td>Unknown</td>\n",
       "      <td>334</td>\n",
       "      <td>50.000000</td>\n",
       "    </tr>\n",
       "    <tr>\n",
       "      <th>57</th>\n",
       "      <td>Unknown</td>\n",
       "      <td>333</td>\n",
       "      <td>100.000000</td>\n",
       "    </tr>\n",
       "    <tr>\n",
       "      <th>58</th>\n",
       "      <td>Henrietta Carbonel</td>\n",
       "      <td>338</td>\n",
       "      <td>70.000000</td>\n",
       "    </tr>\n",
       "    <tr>\n",
       "      <th>59</th>\n",
       "      <td>Henrietta Carbonel</td>\n",
       "      <td>337</td>\n",
       "      <td>100.000000</td>\n",
       "    </tr>\n",
       "    <tr>\n",
       "      <th>60</th>\n",
       "      <td>Henrietta Carbonel</td>\n",
       "      <td>336</td>\n",
       "      <td>100.000000</td>\n",
       "    </tr>\n",
       "    <tr>\n",
       "      <th>61</th>\n",
       "      <td>Henrietta Carbonel</td>\n",
       "      <td>334</td>\n",
       "      <td>100.000000</td>\n",
       "    </tr>\n",
       "    <tr>\n",
       "      <th>62</th>\n",
       "      <td>Henrietta Carbonel</td>\n",
       "      <td>334</td>\n",
       "      <td>66.666667</td>\n",
       "    </tr>\n",
       "    <tr>\n",
       "      <th>63</th>\n",
       "      <td>Henrietta Carbonel</td>\n",
       "      <td>334</td>\n",
       "      <td>66.666667</td>\n",
       "    </tr>\n",
       "    <tr>\n",
       "      <th>64</th>\n",
       "      <td>Henrietta Carbonel</td>\n",
       "      <td>333</td>\n",
       "      <td>75.000000</td>\n",
       "    </tr>\n",
       "    <tr>\n",
       "      <th>65</th>\n",
       "      <td>Michel Jullien</td>\n",
       "      <td>333</td>\n",
       "      <td>100.000000</td>\n",
       "    </tr>\n",
       "    <tr>\n",
       "      <th>66</th>\n",
       "      <td>Michel Jullien</td>\n",
       "      <td>333</td>\n",
       "      <td>75.000000</td>\n",
       "    </tr>\n",
       "    <tr>\n",
       "      <th>67</th>\n",
       "      <td>Unknown</td>\n",
       "      <td>333</td>\n",
       "      <td>75.000000</td>\n",
       "    </tr>\n",
       "    <tr>\n",
       "      <th>68</th>\n",
       "      <td>Unknown</td>\n",
       "      <td>333</td>\n",
       "      <td>50.000000</td>\n",
       "    </tr>\n",
       "    <tr>\n",
       "      <th>69</th>\n",
       "      <td>Unknown</td>\n",
       "      <td>333</td>\n",
       "      <td>100.000000</td>\n",
       "    </tr>\n",
       "    <tr>\n",
       "      <th>70</th>\n",
       "      <td>Unknown</td>\n",
       "      <td>334</td>\n",
       "      <td>100.000000</td>\n",
       "    </tr>\n",
       "    <tr>\n",
       "      <th>71</th>\n",
       "      <td>Unknown</td>\n",
       "      <td>333</td>\n",
       "      <td>100.000000</td>\n",
       "    </tr>\n",
       "    <tr>\n",
       "      <th>72</th>\n",
       "      <td>Unknown</td>\n",
       "      <td>338</td>\n",
       "      <td>100.000000</td>\n",
       "    </tr>\n",
       "    <tr>\n",
       "      <th>73</th>\n",
       "      <td>Unknown</td>\n",
       "      <td>338</td>\n",
       "      <td>90.000000</td>\n",
       "    </tr>\n",
       "    <tr>\n",
       "      <th>74</th>\n",
       "      <td>Unknown</td>\n",
       "      <td>333</td>\n",
       "      <td>100.000000</td>\n",
       "    </tr>\n",
       "    <tr>\n",
       "      <th>75</th>\n",
       "      <td>Unknown</td>\n",
       "      <td>338</td>\n",
       "      <td>40.000000</td>\n",
       "    </tr>\n",
       "    <tr>\n",
       "      <th>76</th>\n",
       "      <td>Unknown</td>\n",
       "      <td>337</td>\n",
       "      <td>100.000000</td>\n",
       "    </tr>\n",
       "    <tr>\n",
       "      <th>77</th>\n",
       "      <td>Unknown</td>\n",
       "      <td>336</td>\n",
       "      <td>100.000000</td>\n",
       "    </tr>\n",
       "    <tr>\n",
       "      <th>78</th>\n",
       "      <td>Unknown</td>\n",
       "      <td>334</td>\n",
       "      <td>83.333333</td>\n",
       "    </tr>\n",
       "    <tr>\n",
       "      <th>79</th>\n",
       "      <td>Unknown</td>\n",
       "      <td>333</td>\n",
       "      <td>75.000000</td>\n",
       "    </tr>\n",
       "    <tr>\n",
       "      <th>80</th>\n",
       "      <td>Unknown</td>\n",
       "      <td>334</td>\n",
       "      <td>83.333333</td>\n",
       "    </tr>\n",
       "    <tr>\n",
       "      <th>81</th>\n",
       "      <td>Unknown</td>\n",
       "      <td>333</td>\n",
       "      <td>75.000000</td>\n",
       "    </tr>\n",
       "    <tr>\n",
       "      <th>82</th>\n",
       "      <td>Unknown</td>\n",
       "      <td>338</td>\n",
       "      <td>70.000000</td>\n",
       "    </tr>\n",
       "    <tr>\n",
       "      <th>83</th>\n",
       "      <td>Unknown</td>\n",
       "      <td>333</td>\n",
       "      <td>100.000000</td>\n",
       "    </tr>\n",
       "    <tr>\n",
       "      <th>84</th>\n",
       "      <td>Unknown</td>\n",
       "      <td>337</td>\n",
       "      <td>75.000000</td>\n",
       "    </tr>\n",
       "    <tr>\n",
       "      <th>85</th>\n",
       "      <td>Unknown</td>\n",
       "      <td>336</td>\n",
       "      <td>83.333333</td>\n",
       "    </tr>\n",
       "    <tr>\n",
       "      <th>86</th>\n",
       "      <td>Unknown</td>\n",
       "      <td>334</td>\n",
       "      <td>66.666667</td>\n",
       "    </tr>\n",
       "    <tr>\n",
       "      <th>87</th>\n",
       "      <td>Unknown</td>\n",
       "      <td>333</td>\n",
       "      <td>50.000000</td>\n",
       "    </tr>\n",
       "  </tbody>\n",
       "</table>"
      ],
      "text/plain": [
       "<IPython.core.display.HTML object>"
      ]
     },
     "metadata": {},
     "output_type": "display_data"
    }
   ],
   "source": [
    "# # Prepare table headers\n",
    "# headers = [\"Name\", \"Parent Chapter PID\", \"Percentage of Success\"]\n",
    "# Prepare table rows\n",
    "# rows = []\n",
    "# percentage_of_success_values = []\n",
    "# students = set()\n",
    "# tests_passed = {}\n",
    "\n",
    "# for _, row in df.iterrows():\n",
    "#     actor_data = eval(row[\"actor\"])\n",
    "#     name = actor_data[\"name\"]\n",
    "#     match = re.search(r\"([a-zA-Z]+)\\.([a-zA-Z]+)@\", name)\n",
    "#     if match:\n",
    "#         # Get the edited name from the regular expression match\n",
    "#         edited_name = f\"{match.group(1).capitalize()} {match.group(2).capitalize()}\"\n",
    "#         name = edited_name\n",
    "#     else:\n",
    "#         name = \"Unknown\"\n",
    "#     students.add(name)\n",
    "#     object_data = eval(row[\"object\"])\n",
    "#     extensions = object_data[\"definition\"][\"extensions\"][\"http://lrs&46;learninglocker&46;net/define/extensions/kairos\"]\n",
    "#     percentage_of_success = extensions[\"percentage_of_success\"]\n",
    "#     if percentage_of_success is not None:\n",
    "#         percentage_of_success = int(percentage_of_success)\n",
    "#         rows.append([name, percentage_of_success])\n",
    "#         percentage_of_success_values.append(percentage_of_success)\n",
    "\n",
    "# # Prepare table rows\n",
    "# rows = []\n",
    "# percentage_of_success_values = []\n",
    "# students = set()\n",
    "# tests_passed = {}\n",
    "# for _, row in df.iterrows():\n",
    "#     actor_data = eval(row[\"actor\"])\n",
    "#     name = actor_data[\"name\"]\n",
    "#     match = re.search(r\"([a-zA-Z]+)\\.([a-zA-Z]+)@\", name)\n",
    "#     if match:\n",
    "#         # Get the edited name from the regular expression match\n",
    "#         edited_name = f\"{match.group(1).capitalize()} {match.group(2).capitalize()}\"\n",
    "#         name = edited_name\n",
    "#     else:\n",
    "#         name = \"Unknown\"\n",
    "#     students.add(name)\n",
    "#     object_data = eval(row[\"object\"])\n",
    "#     extensions = object_data[\"definition\"][\"extensions\"][\"http://lrs&46;learninglocker&46;net/define/extensions/kairos\"]\n",
    "#     parent_chapter_pid = extensions[\"parent_chapter_pid\"]\n",
    "#     percentage_of_success = extensions[\"percentage_of_success\"]\n",
    "#     if percentage_of_success is not None:\n",
    "#         percentage_of_success_values.append(int(percentage_of_success))\n",
    "#         if parent_chapter_pid not in tests_passed:\n",
    "#             tests_passed[parent_chapter_pid] = 0\n",
    "#         tests_passed[parent_chapter_pid] += 1\n",
    "# #         print(tests_passed[parent_chapter_pid])\n",
    "#     rows.append([name, parent_chapter_pid, percentage_of_success])\n",
    "\n",
    "# table = tabulate(rows, headers, tablefmt=\"fancy_grid\")\n",
    "# #print(table)\n",
    "# df = pd.DataFrame(rows, columns=headers)\n",
    "\n",
    "# # Generate HTML table\n",
    "# table_html = df.to_html()\n",
    "\n",
    "# # Display the HTML table and summary statistics\n",
    "# display(HTML(table_html))\n"
   ]
  },
  {
   "cell_type": "code",
   "execution_count": 98,
   "id": "a1da2f4a",
   "metadata": {},
   "outputs": [
    {
     "name": "stdout",
     "output_type": "stream",
     "text": [
      "╒═════════════════════╤═════════════════════════════════════╕\n",
      "│ Name                │   Average Percentage of Success (%) │\n",
      "╞═════════════════════╪═════════════════════════════════════╡\n",
      "│ Atenas Anderson     │                                  94 │\n",
      "├─────────────────────┼─────────────────────────────────────┤\n",
      "│ Damien Carron       │                                  64 │\n",
      "├─────────────────────┼─────────────────────────────────────┤\n",
      "│ Ambroise Baillifard │                                  79 │\n",
      "├─────────────────────┼─────────────────────────────────────┤\n",
      "│ Unknown             │                                  80 │\n",
      "├─────────────────────┼─────────────────────────────────────┤\n",
      "│ Uliana Shylo        │                                  75 │\n",
      "├─────────────────────┼─────────────────────────────────────┤\n",
      "│ Vincent Groff       │                                  87 │\n",
      "├─────────────────────┼─────────────────────────────────────┤\n",
      "│ Yvonne Mery         │                                  80 │\n",
      "├─────────────────────┼─────────────────────────────────────┤\n",
      "│ Nicolas Rothen      │                                  50 │\n",
      "├─────────────────────┼─────────────────────────────────────┤\n",
      "│ Stephane Pannatier  │                                  87 │\n",
      "├─────────────────────┼─────────────────────────────────────┤\n",
      "│ Frederic Gaillard   │                                 100 │\n",
      "├─────────────────────┼─────────────────────────────────────┤\n",
      "│ Michel Jullien      │                                  86 │\n",
      "├─────────────────────┼─────────────────────────────────────┤\n",
      "│ Henrietta Carbonel  │                                  82 │\n",
      "╘═════════════════════╧═════════════════════════════════════╛\n"
     ]
    }
   ],
   "source": [
    "import re\n",
    "import statistics\n",
    "\n",
    "# Prepare table headers\n",
    "headers = [\"Name\", \"Average Percentage of Success (%)\"]\n",
    "# Prepare table rows\n",
    "rows = []\n",
    "percentage_of_success_values = []\n",
    "students = set()\n",
    "tests_passed = {}\n",
    "\n",
    "for _, row in df.iterrows():\n",
    "    actor_data = eval(row[\"actor\"])\n",
    "    name = actor_data[\"name\"]\n",
    "    match = re.search(r\"([a-zA-Z]+)\\.([a-zA-Z]+)@\", name)\n",
    "    if match:\n",
    "        # Get the edited name from the regular expression match\n",
    "        edited_name = f\"{match.group(1).capitalize()} {match.group(2).capitalize()}\"\n",
    "        name = edited_name\n",
    "    else:\n",
    "        name = \"Unknown\"\n",
    "    students.add(name)\n",
    "    object_data = eval(row[\"object\"])\n",
    "    extensions = object_data[\"definition\"][\"extensions\"][\"http://lrs&46;learninglocker&46;net/define/extensions/kairos\"]\n",
    "    percentage_of_success = extensions[\"percentage_of_success\"]\n",
    "    if percentage_of_success is not None:\n",
    "        percentage_of_success = int(percentage_of_success)\n",
    "        rows.append([name, percentage_of_success])\n",
    "        percentage_of_success_values.append(percentage_of_success)\n",
    "\n",
    "# # Prepare table rows\n",
    "# rows = []\n",
    "# students = set()  # Create a set to store unique student names\n",
    "# tests_passed = {}\n",
    "\n",
    "# for _, row in df.iterrows():\n",
    "#     actor_data = eval(row[\"actor\"])\n",
    "#     name = actor_data[\"name\"]\n",
    "#     match = re.search(r\"([a-zA-Z]+)\\.([a-zA-Z]+)@\", name)\n",
    "#     if match:\n",
    "#         # Get the edited name from the regular expression match\n",
    "#         edited_name = f\"{match.group(1).capitalize()} {match.group(2).capitalize()}\"\n",
    "#         name = edited_name\n",
    "#     students.add(name)  # Add the student name to the set\n",
    "#     object_data = eval(row[\"object\"])\n",
    "#     extensions = object_data[\"definition\"][\"extensions\"][\"http://lrs&46;learninglocker&46;net/define/extensions/kairos\"]\n",
    "#     percentage_of_success = extensions[\"percentage_of_success\"]\n",
    "#     if percentage_of_success is not None:\n",
    "#         percentage_of_success = int(percentage_of_success)\n",
    "#         rows.append([name, percentage_of_success])\n",
    "\n",
    "# Generate per-student average percentage of success\n",
    "student_average_scores = {}\n",
    "for student in students:\n",
    "    student_scores = [score for name, score in rows if name == student]\n",
    "    average_score = statistics.mean(student_scores)\n",
    "    student_average_scores[student] = average_score\n",
    "\n",
    "# Add rows to the table\n",
    "table_rows = []\n",
    "for student in students:\n",
    "    average_percentage = student_average_scores[student]\n",
    "    table_rows.append([student, round(average_percentage)])\n",
    "\n",
    "st.table(table_rows)\n",
    "table = tabulate(table_rows, headers, tablefmt=\"fancy_grid\")\n",
    "print(table)"
   ]
  },
  {
   "cell_type": "code",
   "execution_count": 97,
   "id": "400f0db9",
   "metadata": {},
   "outputs": [
    {
     "data": {
      "image/png": "[encoded data removed]",
      "text/plain": [
       "<Figure size 1000x600 with 1 Axes>"
      ]
     },
     "metadata": {},
     "output_type": "display_data"
    },
    {
     "data": {
      "text/plain": [
       "DeltaGenerator()"
      ]
     },
     "execution_count": 97,
     "metadata": {},
     "output_type": "execute_result"
    }
   ],
   "source": [
    "# Line Graph\n",
    "plt.figure(figsize=(10, 6))\n",
    "plt.plot(range(len(students)), list(student_average_scores.values()), marker='o')\n",
    "plt.xticks(range(len(students)), students, rotation=90)\n",
    "plt.xlabel(\"Student\")\n",
    "plt.ylabel(\"Average Percentage of Success\")\n",
    "plt.title(\"Average Percentage of Success for Each Student (Line Graph)\")\n",
    "plt.show()\n",
    "\n",
    "st.pyplot(plt)\n"
   ]
  },
  {
   "cell_type": "code",
   "execution_count": 78,
   "id": "159ea1f3",
   "metadata": {},
   "outputs": [
    {
     "data": {
      "text/plain": [
       "DeltaGenerator()"
      ]
     },
     "execution_count": 78,
     "metadata": {},
     "output_type": "execute_result"
    }
   ],
   "source": [
    "# # Bar Chart\n",
    "# plt.figure(figsize=(10, 6))\n",
    "# plt.bar(list(students), list(student_average_scores.values()))\n",
    "# plt.xlabel(\"Student\")\n",
    "# plt.ylabel(\"Average Percentage of Success\")\n",
    "# plt.title(\"Average Percentage of Success for Each Student (Bar Chart)\")\n",
    "# plt.xticks(rotation=90)\n",
    "# plt.show()\n",
    "# Create the bar chart using Matplotlib\n",
    "fig, ax = plt.subplots(figsize=(10, 6))\n",
    "ax.bar(list(students), list(student_average_scores.values()))\n",
    "ax.set_xlabel(\"Student\")\n",
    "ax.set_ylabel(\"Average Percentage of Success\")\n",
    "ax.set_title(\"Scores of Individual Students\")\n",
    "ax.tick_params(axis='x', rotation=90)  # Rotate x-axis labels for better readability\n",
    "\n",
    "# Display the chart using Streamlit\n",
    "st.pyplot(fig)"
   ]
  },
  {
   "cell_type": "code",
   "execution_count": 79,
   "id": "6acba00c",
   "metadata": {},
   "outputs": [
    {
     "name": "stdout",
     "output_type": "stream",
     "text": [
      "{'Atenas Anderson', 'Damien Carron', 'Ambroise Baillifard', 'cindy.zen-ruffinen@fernuni.ch', 'Uliana Shylo', 'Vincent Groff', 'Yvonne Mery', 'Nicolas Rothen', 'Stephane Pannatier', 'fredgaillard@bluewin.ch', 'Frederic Gaillard', 'Michel Jullien', 'Henrietta Carbonel', 'ambroisebaillifard@gmail.com'}\n"
     ]
    }
   ],
   "source": [
    "\n",
    "\n",
    "# # Print the names of all students who took the test\n",
    "\n",
    "print(students)\n",
    "\n",
    "# Extract first and last name\n",
    "students_set = []\n",
    "for student in students:\n",
    "    match = re.search(r\"([a-zA-Z]+)\\.([a-zA-Z]+)@\", student)\n",
    "    if match:\n",
    "        first_name = match.group(1).capitalize()\n",
    "        last_name = match.group(2).capitalize()\n",
    "        full_name = f\"{first_name} {last_name}\"\n",
    "        students_set.append(full_name)\n",
    "    else:\n",
    "        full_name = \"Unknown\"\n",
    "        students_set.append(full_name)\n",
    "\n",
    "# for student in students_set:\n",
    "   \n",
    "#     # Create a table with one column\n",
    "#     table = PrettyTable([\"Students\"])\n",
    "\n",
    "# # Add rows to the table\n",
    "# for student in students_set:\n",
    "#     table.add_row([student])\n",
    "\n",
    "# # Set the color for the table\n",
    "# table_color = \"cyan\"\n",
    "\n",
    "# # Print the colored table\n",
    "# print(colored(table.get_string(), table_color))\n"
   ]
  },
  {
   "cell_type": "code",
   "execution_count": 315,
   "id": "c5038941",
   "metadata": {},
   "outputs": [
    {
     "data": {
      "image/png": "[encoded data removed]",
      "text/plain": [
       "<Figure size 1000x800 with 1 Axes>"
      ]
     },
     "metadata": {},
     "output_type": "display_data"
    }
   ],
   "source": [
    "# # Plot the number of students passed each test\n",
    "# tests = list(tests_passed.keys())\n",
    "# pass_counts = list(tests_passed.values())\n",
    "# print(pass_counts)\n",
    "# print(tests)\n",
    "\n",
    "# plt.figure(figsize=(10, 8))\n",
    "# plt.bar(tests, pass_counts)\n",
    "# plt.xlabel(\"Parent Chapter PID\")\n",
    "# plt.ylabel(\"Number of Students Passed\")\n",
    "# plt.title(\"Number of Students Passed per Test\")\n",
    "# plt.show()\n",
    "# Plot the number of students passed each test\n",
    "tests = [key for key in tests_passed.keys() if key != 335]\n",
    "pass_counts = [tests_passed[key] for key in tests]\n",
    "\n",
    "plt.figure(figsize=(10, 8))\n",
    "plt.bar(tests, pass_counts)\n",
    "plt.xlabel(\"Parent Chapter PID\")\n",
    "plt.ylabel(\"Number of Students Passed\")\n",
    "plt.title(\"Number of Students Passed per Test\")\n",
    "plt.show()"
   ]
  },
  {
   "cell_type": "code",
   "execution_count": 83,
   "id": "77f13d62",
   "metadata": {},
   "outputs": [
    {
     "name": "stdout",
     "output_type": "stream",
     "text": [
      "Summary Statistics for percentage_of_success:\n",
      "Mean: 81.32954545454545\n",
      "Median: 83.0\n",
      "Mode: 100\n",
      "Minimum: 40\n",
      "Maximum: 100\n",
      "Standard Deviation: 17.813027384995504\n"
     ]
    }
   ],
   "source": [
    "# Compute summary statistics\n",
    "mean = statistics.mean(percentage_of_success_values)\n",
    "median = statistics.median(percentage_of_success_values)\n",
    "mode = statistics.mode(percentage_of_success_values)\n",
    "minimum = min(percentage_of_success_values)\n",
    "maximum = max(percentage_of_success_values)\n",
    "standard_deviation = statistics.stdev(percentage_of_success_values)\n",
    "\n",
    "# Print the summary statistics\n",
    "print(\"Summary Statistics for percentage_of_success:\")\n",
    "print(\"Mean:\", mean)\n",
    "print(\"Median:\", median)\n",
    "print(\"Mode:\", mode)\n",
    "print(\"Minimum:\", minimum)\n",
    "print(\"Maximum:\", maximum)\n",
    "print(\"Standard Deviation:\", standard_deviation)"
   ]
  },
  {
   "cell_type": "code",
   "execution_count": 81,
   "id": "74d4f1ab",
   "metadata": {},
   "outputs": [
    {
     "data": {
      "image/png": "[encoded data removed]",
      "text/plain": [
       "<Figure size 1000x600 with 1 Axes>"
      ]
     },
     "metadata": {},
     "output_type": "display_data"
    },
    {
     "data": {
      "image/png": "[encoded data removed]",
      "text/plain": [
       "<Figure size 1000x600 with 1 Axes>"
      ]
     },
     "metadata": {},
     "output_type": "display_data"
    },
    {
     "data": {
      "image/png": "[encoded data removed]",
      "text/plain": [
       "<Figure size 800x600 with 1 Axes>"
      ]
     },
     "metadata": {},
     "output_type": "display_data"
    }
   ],
   "source": [
    "# Plot the distribution of percentage_of_success\n",
    "plt.figure(figsize=(8, 6))\n",
    "sns.histplot(percentage_of_success_values, kde=True)\n",
    "plt.xlabel(\"Percentage of Success\")\n",
    "plt.ylabel(\"Frequency\")\n",
    "plt.title(\"Distribution of Percentage of Success\")\n",
    "plt.show()"
   ]
  },
  {
   "cell_type": "code",
   "execution_count": 82,
   "id": "4c6a288f",
   "metadata": {
    "scrolled": false
   },
   "outputs": [
    {
     "data": {
      "text/markdown": [
       "# Student Analysis"
      ],
      "text/plain": [
       "<IPython.core.display.Markdown object>"
      ]
     },
     "metadata": {},
     "output_type": "display_data"
    },
    {
     "data": {
      "text/markdown": [
       "\n",
       "Individual Analysis for Student: damien.carron@fernuni.ch"
      ],
      "text/plain": [
       "<IPython.core.display.Markdown object>"
      ]
     },
     "metadata": {},
     "output_type": "display_data"
    },
    {
     "data": {
      "text/markdown": [
       "Mean:"
      ],
      "text/plain": [
       "<IPython.core.display.Markdown object>"
      ]
     },
     "metadata": {},
     "output_type": "display_data"
    },
    {
     "data": {
      "text/plain": [
       "64.5"
      ]
     },
     "metadata": {},
     "output_type": "display_data"
    },
    {
     "data": {
      "text/markdown": [
       "Median:"
      ],
      "text/plain": [
       "<IPython.core.display.Markdown object>"
      ]
     },
     "metadata": {},
     "output_type": "display_data"
    },
    {
     "data": {
      "text/plain": [
       "62.5"
      ]
     },
     "metadata": {},
     "output_type": "display_data"
    },
    {
     "data": {
      "text/markdown": [
       "Mode:"
      ],
      "text/plain": [
       "<IPython.core.display.Markdown object>"
      ]
     },
     "metadata": {},
     "output_type": "display_data"
    },
    {
     "data": {
      "text/plain": [
       "50"
      ]
     },
     "metadata": {},
     "output_type": "display_data"
    },
    {
     "data": {
      "text/markdown": [
       "Minimum:"
      ],
      "text/plain": [
       "<IPython.core.display.Markdown object>"
      ]
     },
     "metadata": {},
     "output_type": "display_data"
    },
    {
     "data": {
      "text/plain": [
       "50"
      ]
     },
     "metadata": {},
     "output_type": "display_data"
    },
    {
     "data": {
      "text/markdown": [
       "Maximum:"
      ],
      "text/plain": [
       "<IPython.core.display.Markdown object>"
      ]
     },
     "metadata": {},
     "output_type": "display_data"
    },
    {
     "data": {
      "text/plain": [
       "83"
      ]
     },
     "metadata": {},
     "output_type": "display_data"
    },
    {
     "data": {
      "text/markdown": [
       "Standard Deviation:"
      ],
      "text/plain": [
       "<IPython.core.display.Markdown object>"
      ]
     },
     "metadata": {},
     "output_type": "display_data"
    },
    {
     "data": {
      "text/plain": [
       "17.05872210923198"
      ]
     },
     "metadata": {},
     "output_type": "display_data"
    },
    {
     "data": {
      "text/markdown": [
       "\n",
       "Individual Analysis for Student: yvonne.mery@fernuni.ch"
      ],
      "text/plain": [
       "<IPython.core.display.Markdown object>"
      ]
     },
     "metadata": {},
     "output_type": "display_data"
    },
    {
     "data": {
      "text/markdown": [
       "Mean:"
      ],
      "text/plain": [
       "<IPython.core.display.Markdown object>"
      ]
     },
     "metadata": {},
     "output_type": "display_data"
    },
    {
     "data": {
      "text/plain": [
       "79.625"
      ]
     },
     "metadata": {},
     "output_type": "display_data"
    },
    {
     "data": {
      "text/markdown": [
       "Median:"
      ],
      "text/plain": [
       "<IPython.core.display.Markdown object>"
      ]
     },
     "metadata": {},
     "output_type": "display_data"
    },
    {
     "data": {
      "text/plain": [
       "81.5"
      ]
     },
     "metadata": {},
     "output_type": "display_data"
    },
    {
     "data": {
      "text/markdown": [
       "Mode:"
      ],
      "text/plain": [
       "<IPython.core.display.Markdown object>"
      ]
     },
     "metadata": {},
     "output_type": "display_data"
    },
    {
     "data": {
      "text/plain": [
       "100"
      ]
     },
     "metadata": {},
     "output_type": "display_data"
    },
    {
     "data": {
      "text/markdown": [
       "Minimum:"
      ],
      "text/plain": [
       "<IPython.core.display.Markdown object>"
      ]
     },
     "metadata": {},
     "output_type": "display_data"
    },
    {
     "data": {
      "text/plain": [
       "50"
      ]
     },
     "metadata": {},
     "output_type": "display_data"
    },
    {
     "data": {
      "text/markdown": [
       "Maximum:"
      ],
      "text/plain": [
       "<IPython.core.display.Markdown object>"
      ]
     },
     "metadata": {},
     "output_type": "display_data"
    },
    {
     "data": {
      "text/plain": [
       "100"
      ]
     },
     "metadata": {},
     "output_type": "display_data"
    },
    {
     "data": {
      "text/markdown": [
       "Standard Deviation:"
      ],
      "text/plain": [
       "<IPython.core.display.Markdown object>"
      ]
     },
     "metadata": {},
     "output_type": "display_data"
    },
    {
     "data": {
      "text/plain": [
       "16.63848808378591"
      ]
     },
     "metadata": {},
     "output_type": "display_data"
    },
    {
     "data": {
      "text/markdown": [
       "\n",
       "Individual Analysis for Student: nicolas.rothen@fernuni.ch"
      ],
      "text/plain": [
       "<IPython.core.display.Markdown object>"
      ]
     },
     "metadata": {},
     "output_type": "display_data"
    },
    {
     "data": {
      "text/markdown": [
       "Mean:"
      ],
      "text/plain": [
       "<IPython.core.display.Markdown object>"
      ]
     },
     "metadata": {},
     "output_type": "display_data"
    },
    {
     "data": {
      "text/plain": [
       "50"
      ]
     },
     "metadata": {},
     "output_type": "display_data"
    },
    {
     "data": {
      "text/markdown": [
       "Median:"
      ],
      "text/plain": [
       "<IPython.core.display.Markdown object>"
      ]
     },
     "metadata": {},
     "output_type": "display_data"
    },
    {
     "data": {
      "text/plain": [
       "50"
      ]
     },
     "metadata": {},
     "output_type": "display_data"
    },
    {
     "data": {
      "text/markdown": [
       "Mode:"
      ],
      "text/plain": [
       "<IPython.core.display.Markdown object>"
      ]
     },
     "metadata": {},
     "output_type": "display_data"
    },
    {
     "data": {
      "text/plain": [
       "50"
      ]
     },
     "metadata": {},
     "output_type": "display_data"
    },
    {
     "data": {
      "text/markdown": [
       "Minimum:"
      ],
      "text/plain": [
       "<IPython.core.display.Markdown object>"
      ]
     },
     "metadata": {},
     "output_type": "display_data"
    },
    {
     "data": {
      "text/plain": [
       "50"
      ]
     },
     "metadata": {},
     "output_type": "display_data"
    },
    {
     "data": {
      "text/markdown": [
       "Maximum:"
      ],
      "text/plain": [
       "<IPython.core.display.Markdown object>"
      ]
     },
     "metadata": {},
     "output_type": "display_data"
    },
    {
     "data": {
      "text/plain": [
       "50"
      ]
     },
     "metadata": {},
     "output_type": "display_data"
    },
    {
     "data": {
      "text/markdown": [
       "Standard Deviation:"
      ],
      "text/plain": [
       "<IPython.core.display.Markdown object>"
      ]
     },
     "metadata": {},
     "output_type": "display_data"
    },
    {
     "data": {
      "text/plain": [
       "0"
      ]
     },
     "metadata": {},
     "output_type": "display_data"
    },
    {
     "data": {
      "text/markdown": [
       "\n",
       "Individual Analysis for Student: stephane.pannatier@fernuni.ch"
      ],
      "text/plain": [
       "<IPython.core.display.Markdown object>"
      ]
     },
     "metadata": {},
     "output_type": "display_data"
    },
    {
     "data": {
      "text/markdown": [
       "Mean:"
      ],
      "text/plain": [
       "<IPython.core.display.Markdown object>"
      ]
     },
     "metadata": {},
     "output_type": "display_data"
    },
    {
     "data": {
      "text/plain": [
       "87.25"
      ]
     },
     "metadata": {},
     "output_type": "display_data"
    },
    {
     "data": {
      "text/markdown": [
       "Median:"
      ],
      "text/plain": [
       "<IPython.core.display.Markdown object>"
      ]
     },
     "metadata": {},
     "output_type": "display_data"
    },
    {
     "data": {
      "text/plain": [
       "95.0"
      ]
     },
     "metadata": {},
     "output_type": "display_data"
    },
    {
     "data": {
      "text/markdown": [
       "Mode:"
      ],
      "text/plain": [
       "<IPython.core.display.Markdown object>"
      ]
     },
     "metadata": {},
     "output_type": "display_data"
    },
    {
     "data": {
      "text/plain": [
       "100"
      ]
     },
     "metadata": {},
     "output_type": "display_data"
    },
    {
     "data": {
      "text/markdown": [
       "Minimum:"
      ],
      "text/plain": [
       "<IPython.core.display.Markdown object>"
      ]
     },
     "metadata": {},
     "output_type": "display_data"
    },
    {
     "data": {
      "text/plain": [
       "50"
      ]
     },
     "metadata": {},
     "output_type": "display_data"
    },
    {
     "data": {
      "text/markdown": [
       "Maximum:"
      ],
      "text/plain": [
       "<IPython.core.display.Markdown object>"
      ]
     },
     "metadata": {},
     "output_type": "display_data"
    },
    {
     "data": {
      "text/plain": [
       "100"
      ]
     },
     "metadata": {},
     "output_type": "display_data"
    },
    {
     "data": {
      "text/markdown": [
       "Standard Deviation:"
      ],
      "text/plain": [
       "<IPython.core.display.Markdown object>"
      ]
     },
     "metadata": {},
     "output_type": "display_data"
    },
    {
     "data": {
      "text/plain": [
       "17.782415069789753"
      ]
     },
     "metadata": {},
     "output_type": "display_data"
    },
    {
     "data": {
      "text/markdown": [
       "\n",
       "Individual Analysis for Student: atenas.anderson@unidistance.ch"
      ],
      "text/plain": [
       "<IPython.core.display.Markdown object>"
      ]
     },
     "metadata": {},
     "output_type": "display_data"
    },
    {
     "data": {
      "text/markdown": [
       "Mean:"
      ],
      "text/plain": [
       "<IPython.core.display.Markdown object>"
      ]
     },
     "metadata": {},
     "output_type": "display_data"
    },
    {
     "data": {
      "text/plain": [
       "93.75"
      ]
     },
     "metadata": {},
     "output_type": "display_data"
    },
    {
     "data": {
      "text/markdown": [
       "Median:"
      ],
      "text/plain": [
       "<IPython.core.display.Markdown object>"
      ]
     },
     "metadata": {},
     "output_type": "display_data"
    },
    {
     "data": {
      "text/plain": [
       "100.0"
      ]
     },
     "metadata": {},
     "output_type": "display_data"
    },
    {
     "data": {
      "text/markdown": [
       "Mode:"
      ],
      "text/plain": [
       "<IPython.core.display.Markdown object>"
      ]
     },
     "metadata": {},
     "output_type": "display_data"
    },
    {
     "data": {
      "text/plain": [
       "100"
      ]
     },
     "metadata": {},
     "output_type": "display_data"
    },
    {
     "data": {
      "text/markdown": [
       "Minimum:"
      ],
      "text/plain": [
       "<IPython.core.display.Markdown object>"
      ]
     },
     "metadata": {},
     "output_type": "display_data"
    },
    {
     "data": {
      "text/plain": [
       "75"
      ]
     },
     "metadata": {},
     "output_type": "display_data"
    },
    {
     "data": {
      "text/markdown": [
       "Maximum:"
      ],
      "text/plain": [
       "<IPython.core.display.Markdown object>"
      ]
     },
     "metadata": {},
     "output_type": "display_data"
    },
    {
     "data": {
      "text/plain": [
       "100"
      ]
     },
     "metadata": {},
     "output_type": "display_data"
    },
    {
     "data": {
      "text/markdown": [
       "Standard Deviation:"
      ],
      "text/plain": [
       "<IPython.core.display.Markdown object>"
      ]
     },
     "metadata": {},
     "output_type": "display_data"
    },
    {
     "data": {
      "text/plain": [
       "12.5"
      ]
     },
     "metadata": {},
     "output_type": "display_data"
    },
    {
     "data": {
      "text/markdown": [
       "\n",
       "Individual Analysis for Student: ambroise.baillifard@unidistance.ch"
      ],
      "text/plain": [
       "<IPython.core.display.Markdown object>"
      ]
     },
     "metadata": {},
     "output_type": "display_data"
    },
    {
     "data": {
      "text/markdown": [
       "Mean:"
      ],
      "text/plain": [
       "<IPython.core.display.Markdown object>"
      ]
     },
     "metadata": {},
     "output_type": "display_data"
    },
    {
     "data": {
      "text/plain": [
       "79"
      ]
     },
     "metadata": {},
     "output_type": "display_data"
    },
    {
     "data": {
      "text/markdown": [
       "Median:"
      ],
      "text/plain": [
       "<IPython.core.display.Markdown object>"
      ]
     },
     "metadata": {},
     "output_type": "display_data"
    },
    {
     "data": {
      "text/plain": [
       "79.0"
      ]
     },
     "metadata": {},
     "output_type": "display_data"
    },
    {
     "data": {
      "text/markdown": [
       "Mode:"
      ],
      "text/plain": [
       "<IPython.core.display.Markdown object>"
      ]
     },
     "metadata": {},
     "output_type": "display_data"
    },
    {
     "data": {
      "text/plain": [
       "83"
      ]
     },
     "metadata": {},
     "output_type": "display_data"
    },
    {
     "data": {
      "text/markdown": [
       "Minimum:"
      ],
      "text/plain": [
       "<IPython.core.display.Markdown object>"
      ]
     },
     "metadata": {},
     "output_type": "display_data"
    },
    {
     "data": {
      "text/plain": [
       "75"
      ]
     },
     "metadata": {},
     "output_type": "display_data"
    },
    {
     "data": {
      "text/markdown": [
       "Maximum:"
      ],
      "text/plain": [
       "<IPython.core.display.Markdown object>"
      ]
     },
     "metadata": {},
     "output_type": "display_data"
    },
    {
     "data": {
      "text/plain": [
       "83"
      ]
     },
     "metadata": {},
     "output_type": "display_data"
    },
    {
     "data": {
      "text/markdown": [
       "Standard Deviation:"
      ],
      "text/plain": [
       "<IPython.core.display.Markdown object>"
      ]
     },
     "metadata": {},
     "output_type": "display_data"
    },
    {
     "data": {
      "text/plain": [
       "5.656854249492381"
      ]
     },
     "metadata": {},
     "output_type": "display_data"
    },
    {
     "data": {
      "text/markdown": [
       "\n",
       "Individual Analysis for Student: fredgaillard@bluewin.ch"
      ],
      "text/plain": [
       "<IPython.core.display.Markdown object>"
      ]
     },
     "metadata": {},
     "output_type": "display_data"
    },
    {
     "data": {
      "text/markdown": [
       "Mean:"
      ],
      "text/plain": [
       "<IPython.core.display.Markdown object>"
      ]
     },
     "metadata": {},
     "output_type": "display_data"
    },
    {
     "data": {
      "text/plain": [
       "81.375"
      ]
     },
     "metadata": {},
     "output_type": "display_data"
    },
    {
     "data": {
      "text/markdown": [
       "Median:"
      ],
      "text/plain": [
       "<IPython.core.display.Markdown object>"
      ]
     },
     "metadata": {},
     "output_type": "display_data"
    },
    {
     "data": {
      "text/plain": [
       "79.0"
      ]
     },
     "metadata": {},
     "output_type": "display_data"
    },
    {
     "data": {
      "text/markdown": [
       "Mode:"
      ],
      "text/plain": [
       "<IPython.core.display.Markdown object>"
      ]
     },
     "metadata": {},
     "output_type": "display_data"
    },
    {
     "data": {
      "text/plain": [
       "100"
      ]
     },
     "metadata": {},
     "output_type": "display_data"
    },
    {
     "data": {
      "text/markdown": [
       "Minimum:"
      ],
      "text/plain": [
       "<IPython.core.display.Markdown object>"
      ]
     },
     "metadata": {},
     "output_type": "display_data"
    },
    {
     "data": {
      "text/plain": [
       "50"
      ]
     },
     "metadata": {},
     "output_type": "display_data"
    },
    {
     "data": {
      "text/markdown": [
       "Maximum:"
      ],
      "text/plain": [
       "<IPython.core.display.Markdown object>"
      ]
     },
     "metadata": {},
     "output_type": "display_data"
    },
    {
     "data": {
      "text/plain": [
       "100"
      ]
     },
     "metadata": {},
     "output_type": "display_data"
    },
    {
     "data": {
      "text/markdown": [
       "Standard Deviation:"
      ],
      "text/plain": [
       "<IPython.core.display.Markdown object>"
      ]
     },
     "metadata": {},
     "output_type": "display_data"
    },
    {
     "data": {
      "text/plain": [
       "17.480942003603047"
      ]
     },
     "metadata": {},
     "output_type": "display_data"
    },
    {
     "data": {
      "text/markdown": [
       "\n",
       "Individual Analysis for Student: uliana.shylo@unidistance.ch"
      ],
      "text/plain": [
       "<IPython.core.display.Markdown object>"
      ]
     },
     "metadata": {},
     "output_type": "display_data"
    },
    {
     "data": {
      "text/markdown": [
       "Mean:"
      ],
      "text/plain": [
       "<IPython.core.display.Markdown object>"
      ]
     },
     "metadata": {},
     "output_type": "display_data"
    },
    {
     "data": {
      "text/plain": [
       "75"
      ]
     },
     "metadata": {},
     "output_type": "display_data"
    },
    {
     "data": {
      "text/markdown": [
       "Median:"
      ],
      "text/plain": [
       "<IPython.core.display.Markdown object>"
      ]
     },
     "metadata": {},
     "output_type": "display_data"
    },
    {
     "data": {
      "text/plain": [
       "75"
      ]
     },
     "metadata": {},
     "output_type": "display_data"
    },
    {
     "data": {
      "text/markdown": [
       "Mode:"
      ],
      "text/plain": [
       "<IPython.core.display.Markdown object>"
      ]
     },
     "metadata": {},
     "output_type": "display_data"
    },
    {
     "data": {
      "text/plain": [
       "75"
      ]
     },
     "metadata": {},
     "output_type": "display_data"
    },
    {
     "data": {
      "text/markdown": [
       "Minimum:"
      ],
      "text/plain": [
       "<IPython.core.display.Markdown object>"
      ]
     },
     "metadata": {},
     "output_type": "display_data"
    },
    {
     "data": {
      "text/plain": [
       "75"
      ]
     },
     "metadata": {},
     "output_type": "display_data"
    },
    {
     "data": {
      "text/markdown": [
       "Maximum:"
      ],
      "text/plain": [
       "<IPython.core.display.Markdown object>"
      ]
     },
     "metadata": {},
     "output_type": "display_data"
    },
    {
     "data": {
      "text/plain": [
       "75"
      ]
     },
     "metadata": {},
     "output_type": "display_data"
    },
    {
     "data": {
      "text/markdown": [
       "Standard Deviation:"
      ],
      "text/plain": [
       "<IPython.core.display.Markdown object>"
      ]
     },
     "metadata": {},
     "output_type": "display_data"
    },
    {
     "data": {
      "text/plain": [
       "0"
      ]
     },
     "metadata": {},
     "output_type": "display_data"
    },
    {
     "data": {
      "text/markdown": [
       "\n",
       "Individual Analysis for Student: ambroisebaillifard@gmail.com"
      ],
      "text/plain": [
       "<IPython.core.display.Markdown object>"
      ]
     },
     "metadata": {},
     "output_type": "display_data"
    },
    {
     "data": {
      "text/markdown": [
       "Mean:"
      ],
      "text/plain": [
       "<IPython.core.display.Markdown object>"
      ]
     },
     "metadata": {},
     "output_type": "display_data"
    },
    {
     "data": {
      "text/plain": [
       "78.23809523809524"
      ]
     },
     "metadata": {},
     "output_type": "display_data"
    },
    {
     "data": {
      "text/markdown": [
       "Median:"
      ],
      "text/plain": [
       "<IPython.core.display.Markdown object>"
      ]
     },
     "metadata": {},
     "output_type": "display_data"
    },
    {
     "data": {
      "text/plain": [
       "75"
      ]
     },
     "metadata": {},
     "output_type": "display_data"
    },
    {
     "data": {
      "text/markdown": [
       "Mode:"
      ],
      "text/plain": [
       "<IPython.core.display.Markdown object>"
      ]
     },
     "metadata": {},
     "output_type": "display_data"
    },
    {
     "data": {
      "text/plain": [
       "75"
      ]
     },
     "metadata": {},
     "output_type": "display_data"
    },
    {
     "data": {
      "text/markdown": [
       "Minimum:"
      ],
      "text/plain": [
       "<IPython.core.display.Markdown object>"
      ]
     },
     "metadata": {},
     "output_type": "display_data"
    },
    {
     "data": {
      "text/plain": [
       "40"
      ]
     },
     "metadata": {},
     "output_type": "display_data"
    },
    {
     "data": {
      "text/markdown": [
       "Maximum:"
      ],
      "text/plain": [
       "<IPython.core.display.Markdown object>"
      ]
     },
     "metadata": {},
     "output_type": "display_data"
    },
    {
     "data": {
      "text/plain": [
       "100"
      ]
     },
     "metadata": {},
     "output_type": "display_data"
    },
    {
     "data": {
      "text/markdown": [
       "Standard Deviation:"
      ],
      "text/plain": [
       "<IPython.core.display.Markdown object>"
      ]
     },
     "metadata": {},
     "output_type": "display_data"
    },
    {
     "data": {
      "text/plain": [
       "18.633047957606834"
      ]
     },
     "metadata": {},
     "output_type": "display_data"
    },
    {
     "data": {
      "text/markdown": [
       "\n",
       "Individual Analysis for Student: frederic.gaillard@unidistance.ch"
      ],
      "text/plain": [
       "<IPython.core.display.Markdown object>"
      ]
     },
     "metadata": {},
     "output_type": "display_data"
    },
    {
     "data": {
      "text/markdown": [
       "Mean:"
      ],
      "text/plain": [
       "<IPython.core.display.Markdown object>"
      ]
     },
     "metadata": {},
     "output_type": "display_data"
    },
    {
     "data": {
      "text/plain": [
       "100"
      ]
     },
     "metadata": {},
     "output_type": "display_data"
    },
    {
     "data": {
      "text/markdown": [
       "Median:"
      ],
      "text/plain": [
       "<IPython.core.display.Markdown object>"
      ]
     },
     "metadata": {},
     "output_type": "display_data"
    },
    {
     "data": {
      "text/plain": [
       "100"
      ]
     },
     "metadata": {},
     "output_type": "display_data"
    },
    {
     "data": {
      "text/markdown": [
       "Mode:"
      ],
      "text/plain": [
       "<IPython.core.display.Markdown object>"
      ]
     },
     "metadata": {},
     "output_type": "display_data"
    },
    {
     "data": {
      "text/plain": [
       "100"
      ]
     },
     "metadata": {},
     "output_type": "display_data"
    },
    {
     "data": {
      "text/markdown": [
       "Minimum:"
      ],
      "text/plain": [
       "<IPython.core.display.Markdown object>"
      ]
     },
     "metadata": {},
     "output_type": "display_data"
    },
    {
     "data": {
      "text/plain": [
       "100"
      ]
     },
     "metadata": {},
     "output_type": "display_data"
    },
    {
     "data": {
      "text/markdown": [
       "Maximum:"
      ],
      "text/plain": [
       "<IPython.core.display.Markdown object>"
      ]
     },
     "metadata": {},
     "output_type": "display_data"
    },
    {
     "data": {
      "text/plain": [
       "100"
      ]
     },
     "metadata": {},
     "output_type": "display_data"
    },
    {
     "data": {
      "text/markdown": [
       "Standard Deviation:"
      ],
      "text/plain": [
       "<IPython.core.display.Markdown object>"
      ]
     },
     "metadata": {},
     "output_type": "display_data"
    },
    {
     "data": {
      "text/plain": [
       "0"
      ]
     },
     "metadata": {},
     "output_type": "display_data"
    },
    {
     "data": {
      "text/markdown": [
       "\n",
       "Individual Analysis for Student: vincent.groff@unidistance.ch"
      ],
      "text/plain": [
       "<IPython.core.display.Markdown object>"
      ]
     },
     "metadata": {},
     "output_type": "display_data"
    },
    {
     "data": {
      "text/markdown": [
       "Mean:"
      ],
      "text/plain": [
       "<IPython.core.display.Markdown object>"
      ]
     },
     "metadata": {},
     "output_type": "display_data"
    },
    {
     "data": {
      "text/plain": [
       "86.57142857142857"
      ]
     },
     "metadata": {},
     "output_type": "display_data"
    },
    {
     "data": {
      "text/markdown": [
       "Median:"
      ],
      "text/plain": [
       "<IPython.core.display.Markdown object>"
      ]
     },
     "metadata": {},
     "output_type": "display_data"
    },
    {
     "data": {
      "text/plain": [
       "100"
      ]
     },
     "metadata": {},
     "output_type": "display_data"
    },
    {
     "data": {
      "text/markdown": [
       "Mode:"
      ],
      "text/plain": [
       "<IPython.core.display.Markdown object>"
      ]
     },
     "metadata": {},
     "output_type": "display_data"
    },
    {
     "data": {
      "text/plain": [
       "100"
      ]
     },
     "metadata": {},
     "output_type": "display_data"
    },
    {
     "data": {
      "text/markdown": [
       "Minimum:"
      ],
      "text/plain": [
       "<IPython.core.display.Markdown object>"
      ]
     },
     "metadata": {},
     "output_type": "display_data"
    },
    {
     "data": {
      "text/plain": [
       "50"
      ]
     },
     "metadata": {},
     "output_type": "display_data"
    },
    {
     "data": {
      "text/markdown": [
       "Maximum:"
      ],
      "text/plain": [
       "<IPython.core.display.Markdown object>"
      ]
     },
     "metadata": {},
     "output_type": "display_data"
    },
    {
     "data": {
      "text/plain": [
       "100"
      ]
     },
     "metadata": {},
     "output_type": "display_data"
    },
    {
     "data": {
      "text/markdown": [
       "Standard Deviation:"
      ],
      "text/plain": [
       "<IPython.core.display.Markdown object>"
      ]
     },
     "metadata": {},
     "output_type": "display_data"
    },
    {
     "data": {
      "text/plain": [
       "20.386737051795404"
      ]
     },
     "metadata": {},
     "output_type": "display_data"
    },
    {
     "data": {
      "text/markdown": [
       "\n",
       "Individual Analysis for Student: jean-michel.jullien@unidistance.ch"
      ],
      "text/plain": [
       "<IPython.core.display.Markdown object>"
      ]
     },
     "metadata": {},
     "output_type": "display_data"
    },
    {
     "data": {
      "text/markdown": [
       "Mean:"
      ],
      "text/plain": [
       "<IPython.core.display.Markdown object>"
      ]
     },
     "metadata": {},
     "output_type": "display_data"
    },
    {
     "data": {
      "text/plain": [
       "86"
      ]
     },
     "metadata": {},
     "output_type": "display_data"
    },
    {
     "data": {
      "text/markdown": [
       "Median:"
      ],
      "text/plain": [
       "<IPython.core.display.Markdown object>"
      ]
     },
     "metadata": {},
     "output_type": "display_data"
    },
    {
     "data": {
      "text/plain": [
       "83"
      ]
     },
     "metadata": {},
     "output_type": "display_data"
    },
    {
     "data": {
      "text/markdown": [
       "Mode:"
      ],
      "text/plain": [
       "<IPython.core.display.Markdown object>"
      ]
     },
     "metadata": {},
     "output_type": "display_data"
    },
    {
     "data": {
      "text/plain": [
       "83"
      ]
     },
     "metadata": {},
     "output_type": "display_data"
    },
    {
     "data": {
      "text/markdown": [
       "Minimum:"
      ],
      "text/plain": [
       "<IPython.core.display.Markdown object>"
      ]
     },
     "metadata": {},
     "output_type": "display_data"
    },
    {
     "data": {
      "text/plain": [
       "75"
      ]
     },
     "metadata": {},
     "output_type": "display_data"
    },
    {
     "data": {
      "text/markdown": [
       "Maximum:"
      ],
      "text/plain": [
       "<IPython.core.display.Markdown object>"
      ]
     },
     "metadata": {},
     "output_type": "display_data"
    },
    {
     "data": {
      "text/plain": [
       "100"
      ]
     },
     "metadata": {},
     "output_type": "display_data"
    },
    {
     "data": {
      "text/markdown": [
       "Standard Deviation:"
      ],
      "text/plain": [
       "<IPython.core.display.Markdown object>"
      ]
     },
     "metadata": {},
     "output_type": "display_data"
    },
    {
     "data": {
      "text/plain": [
       "12.767145334803704"
      ]
     },
     "metadata": {},
     "output_type": "display_data"
    },
    {
     "data": {
      "text/markdown": [
       "\n",
       "Individual Analysis for Student: cindy.zen-ruffinen@fernuni.ch"
      ],
      "text/plain": [
       "<IPython.core.display.Markdown object>"
      ]
     },
     "metadata": {},
     "output_type": "display_data"
    },
    {
     "data": {
      "text/markdown": [
       "Mean:"
      ],
      "text/plain": [
       "<IPython.core.display.Markdown object>"
      ]
     },
     "metadata": {},
     "output_type": "display_data"
    },
    {
     "data": {
      "text/plain": [
       "84"
      ]
     },
     "metadata": {},
     "output_type": "display_data"
    },
    {
     "data": {
      "text/markdown": [
       "Median:"
      ],
      "text/plain": [
       "<IPython.core.display.Markdown object>"
      ]
     },
     "metadata": {},
     "output_type": "display_data"
    },
    {
     "data": {
      "text/plain": [
       "100"
      ]
     },
     "metadata": {},
     "output_type": "display_data"
    },
    {
     "data": {
      "text/markdown": [
       "Mode:"
      ],
      "text/plain": [
       "<IPython.core.display.Markdown object>"
      ]
     },
     "metadata": {},
     "output_type": "display_data"
    },
    {
     "data": {
      "text/plain": [
       "100"
      ]
     },
     "metadata": {},
     "output_type": "display_data"
    },
    {
     "data": {
      "text/markdown": [
       "Minimum:"
      ],
      "text/plain": [
       "<IPython.core.display.Markdown object>"
      ]
     },
     "metadata": {},
     "output_type": "display_data"
    },
    {
     "data": {
      "text/plain": [
       "50"
      ]
     },
     "metadata": {},
     "output_type": "display_data"
    },
    {
     "data": {
      "text/markdown": [
       "Maximum:"
      ],
      "text/plain": [
       "<IPython.core.display.Markdown object>"
      ]
     },
     "metadata": {},
     "output_type": "display_data"
    },
    {
     "data": {
      "text/plain": [
       "100"
      ]
     },
     "metadata": {},
     "output_type": "display_data"
    },
    {
     "data": {
      "text/markdown": [
       "Standard Deviation:"
      ],
      "text/plain": [
       "<IPython.core.display.Markdown object>"
      ]
     },
     "metadata": {},
     "output_type": "display_data"
    },
    {
     "data": {
      "text/plain": [
       "23.021728866442675"
      ]
     },
     "metadata": {},
     "output_type": "display_data"
    },
    {
     "data": {
      "text/markdown": [
       "\n",
       "Individual Analysis for Student: henrietta.carbonel@unidistance.ch"
      ],
      "text/plain": [
       "<IPython.core.display.Markdown object>"
      ]
     },
     "metadata": {},
     "output_type": "display_data"
    },
    {
     "data": {
      "text/markdown": [
       "Mean:"
      ],
      "text/plain": [
       "<IPython.core.display.Markdown object>"
      ]
     },
     "metadata": {},
     "output_type": "display_data"
    },
    {
     "data": {
      "text/plain": [
       "82.42857142857143"
      ]
     },
     "metadata": {},
     "output_type": "display_data"
    },
    {
     "data": {
      "text/markdown": [
       "Median:"
      ],
      "text/plain": [
       "<IPython.core.display.Markdown object>"
      ]
     },
     "metadata": {},
     "output_type": "display_data"
    },
    {
     "data": {
      "text/plain": [
       "75"
      ]
     },
     "metadata": {},
     "output_type": "display_data"
    },
    {
     "data": {
      "text/markdown": [
       "Mode:"
      ],
      "text/plain": [
       "<IPython.core.display.Markdown object>"
      ]
     },
     "metadata": {},
     "output_type": "display_data"
    },
    {
     "data": {
      "text/plain": [
       "100"
      ]
     },
     "metadata": {},
     "output_type": "display_data"
    },
    {
     "data": {
      "text/markdown": [
       "Minimum:"
      ],
      "text/plain": [
       "<IPython.core.display.Markdown object>"
      ]
     },
     "metadata": {},
     "output_type": "display_data"
    },
    {
     "data": {
      "text/plain": [
       "66"
      ]
     },
     "metadata": {},
     "output_type": "display_data"
    },
    {
     "data": {
      "text/markdown": [
       "Maximum:"
      ],
      "text/plain": [
       "<IPython.core.display.Markdown object>"
      ]
     },
     "metadata": {},
     "output_type": "display_data"
    },
    {
     "data": {
      "text/plain": [
       "100"
      ]
     },
     "metadata": {},
     "output_type": "display_data"
    },
    {
     "data": {
      "text/markdown": [
       "Standard Deviation:"
      ],
      "text/plain": [
       "<IPython.core.display.Markdown object>"
      ]
     },
     "metadata": {},
     "output_type": "display_data"
    },
    {
     "data": {
      "text/plain": [
       "16.711843533426055"
      ]
     },
     "metadata": {},
     "output_type": "display_data"
    }
   ],
   "source": [
    "# # Individual Student Analysis\n",
    "# for student, scores in students.items():\n",
    "#     student_mean = statistics.mean(scores)\n",
    "#     student_median = statistics.median(scores)\n",
    "#     student_mode = statistics.mode(scores)\n",
    "#     student_minimum = min(scores)\n",
    "#     student_maximum = max(scores)\n",
    "#     student_standard_deviation = statistics.stdev(scores)\n",
    "\n",
    "#     print(f\"\\nIndividual Analysis for Student: {student}\")\n",
    "#     print(\"Mean:\", student_mean)\n",
    "#     print(\"Median:\", student_median)\n",
    "#     print(\"Mode:\", student_mode)\n",
    "#     print(\"Minimum:\", student_minimum)\n",
    "#     print(\"Maximum:\", student_maximum)\n",
    "#     print(\"Standard Deviation:\", student_standard_deviation)\n",
    "\n",
    "#     plt.figure(figsize=(8, 6))\n",
    "#     sns.histplot(scores, kde=True)\n",
    "#     plt.xlabel(\"Percentage of Success\")\n",
    "#     plt.ylabel(\"Frequency\")\n",
    "#     plt.title(f\"Distribution of Percentage of Success for Student: {student}\")\n",
    "#     plt.show()\n",
    "# Individual Student Analysis\n",
    "# Initialize the students dictionary\n",
    "students = {}\n",
    "\n",
    "# Prepare table rows\n",
    "rows = []\n",
    "percentage_of_success_values = []\n",
    "\n",
    "for _, row in df.iterrows():\n",
    "    actor_data = eval(row[\"actor\"])\n",
    "    name = actor_data[\"name\"]\n",
    "    students.setdefault(name, [])  # Initialize an empty list for each student if not already present\n",
    "    object_data = eval(row[\"object\"])\n",
    "    extensions = object_data[\"definition\"][\"extensions\"][\"http://lrs&46;learninglocker&46;net/define/extensions/kairos\"]\n",
    "    percentage_of_success = extensions[\"percentage_of_success\"]\n",
    "    if percentage_of_success is not None:\n",
    "        percentage_of_success_values.append(int(percentage_of_success))\n",
    "        students[name].append(int(percentage_of_success))\n",
    "        \n",
    "# Set title\n",
    "st.title(\"Student Analysis\")\n",
    "\n",
    "# Create sidebar\n",
    "st.sidebar.title(\"Options\")\n",
    "# Perform individual student analysis\n",
    "for student, scores in students.items():\n",
    "    student_mean = statistics.mean(scores)\n",
    "    student_median = statistics.median(scores)\n",
    "    student_mode = statistics.mode(scores)\n",
    "    student_minimum = min(scores)\n",
    "    student_maximum = max(scores)\n",
    "    \n",
    "    if len(scores) >= 2:\n",
    "        student_standard_deviation = statistics.stdev(scores)\n",
    "    else:\n",
    "        student_standard_deviation = 0  # Set standard deviation to 0 if there is only one data point\n",
    "\n",
    "#     print(f\"\\nIndividual Analysis for Student: {student}\")\n",
    "#     print(\"Mean:\", student_mean)\n",
    "#     print(\"Median:\", student_median)\n",
    "#     print(\"Mode:\", student_mode)\n",
    "#     print(\"Minimum:\", student_minimum)\n",
    "#     print(\"Maximum:\", student_maximum)\n",
    "#     print(\"Standard Deviation:\", student_standard_deviation)\n",
    "\n",
    "#     plt.figure(figsize=(8, 6))\n",
    "#     sns.histplot(scores, kde=True)\n",
    "#     plt.xlabel(\"Percentage of Success\")\n",
    "#     plt.ylabel(\"Frequency\")\n",
    "#     plt.title(f\"Distribution of Percentage of Success for Student: {student}\")\n",
    "#     plt.show()\n",
    "\n",
    "\n",
    "    # Display individual analysis\n",
    "    st.write(f\"\\nIndividual Analysis for Student: {student}\")\n",
    "    st.write(\"Mean:\", student_mean)\n",
    "    st.write(\"Median:\", student_median)\n",
    "    st.write(\"Mode:\", student_mode)\n",
    "    st.write(\"Minimum:\", student_minimum)\n",
    "    st.write(\"Maximum:\", student_maximum)\n",
    "    st.write(\"Standard Deviation:\", student_standard_deviation)\n",
    "\n",
    "    # Generate histogram plot\n",
    "    plt.figure(figsize=(8, 6))\n",
    "    sns.histplot(scores, kde=True)\n",
    "    plt.xlabel(\"Percentage of Success\")\n",
    "    plt.ylabel(\"Frequency\")\n",
    "    plt.title(f\"Distribution of Percentage of Success for Student: {student}\")\n",
    "    st.pyplot(plt)\n"
   ]
  },
  {
   "cell_type": "code",
   "execution_count": null,
   "id": "e52edf78",
   "metadata": {},
   "outputs": [],
   "source": []
  }
 ],
 "metadata": {
  "kernelspec": {
   "display_name": "Python 3 (ipykernel)",
   "language": "python",
   "name": "python3"
  },
  "language_info": {
   "codemirror_mode": {
    "name": "ipython",
    "version": 3
   },
   "file_extension": ".py",
   "mimetype": "text/x-python",
   "name": "python",
   "nbconvert_exporter": "python",
   "pygments_lexer": "ipython3",
   "version": "3.10.9"
  }
 },
 "nbformat": 4,
 "nbformat_minor": 5
}
